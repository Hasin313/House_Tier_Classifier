{
 "cells": [
  {
   "cell_type": "code",
   "execution_count": 1,
   "id": "0d9eb513",
   "metadata": {},
   "outputs": [],
   "source": [
    "import pandas as pd"
   ]
  },
  {
   "cell_type": "code",
   "execution_count": 2,
   "id": "dec3ad3a",
   "metadata": {},
   "outputs": [
    {
     "name": "stderr",
     "output_type": "stream",
     "text": [
      "C:\\Users\\hasin\\AppData\\Local\\Temp\\ipykernel_13836\\448959118.py:1: DtypeWarning: Columns (185,189,221,253,273) have mixed types. Specify dtype option on import or set low_memory=False.\n",
      "  df=pd.read_csv(\"scrapped_data.csv\")\n"
     ]
    }
   ],
   "source": [
    "df=pd.read_csv(\"scrapped_data.csv\")"
   ]
  },
  {
   "cell_type": "code",
   "execution_count": 3,
   "id": "742d961b",
   "metadata": {},
   "outputs": [],
   "source": [
    "filtered_df=df[[\"city\",\"state\",\"zip\",\"baths\",\"beds\",\"fullBaths\",\"lotSize/value\",\"price/value\",\"url\",\"keyFacts/0/description\",\"keyFacts/1/description\",\"keyFacts/2/description\",\"isNewConstruction\",\"isHot\",\"latLong/value/latitude\",\"latLong/value/longitude\",\"listingRemarks\"]].copy()"
   ]
  },
  {
   "cell_type": "code",
   "execution_count": 4,
   "id": "a66a8962",
   "metadata": {},
   "outputs": [],
   "source": [
    "# 1. Rename columns to remove problematic characters\n",
    "filtered_df.rename(columns={\n",
    "    'lotSize/value': 'lotSize_value',\n",
    "    'price/value': 'price_value',\n",
    "    'keyFacts/0/description': 'keyFacts_0_description',\n",
    "    'keyFacts/1/description': 'keyFacts_1_description',\n",
    "    'keyFacts/2/description': 'keyFacts_2_description',\n",
    "    'latLong/value/latitude': 'latitude',\n",
    "    'latLong/value/longitude': 'longitude'\n",
    "}, inplace=True)"
   ]
  },
  {
   "cell_type": "code",
   "execution_count": 5,
   "id": "7174471a",
   "metadata": {},
   "outputs": [],
   "source": [
    "# 2. Drop rows where critical small fields are missing ('city', 'price_value')\n",
    "filtered_df = filtered_df.dropna(subset=['city', 'price_value'])"
   ]
  },
  {
   "cell_type": "code",
   "execution_count": 6,
   "id": "2476cae7",
   "metadata": {},
   "outputs": [
    {
     "name": "stderr",
     "output_type": "stream",
     "text": [
      "C:\\Users\\hasin\\AppData\\Local\\Temp\\ipykernel_13836\\9034711.py:5: FutureWarning: A value is trying to be set on a copy of a DataFrame or Series through chained assignment using an inplace method.\n",
      "The behavior will change in pandas 3.0. This inplace method will never work because the intermediate object on which we are setting values always behaves as a copy.\n",
      "\n",
      "For example, when doing 'df[col].method(value, inplace=True)', try using 'df.method({col: value}, inplace=True)' or df[col] = df[col].method(value) instead, to perform the operation inplace on the original object.\n",
      "\n",
      "\n",
      "  filtered_df[col].fillna(median_value, inplace=True)\n",
      "C:\\Users\\hasin\\AppData\\Local\\Temp\\ipykernel_13836\\9034711.py:5: FutureWarning: A value is trying to be set on a copy of a DataFrame or Series through chained assignment using an inplace method.\n",
      "The behavior will change in pandas 3.0. This inplace method will never work because the intermediate object on which we are setting values always behaves as a copy.\n",
      "\n",
      "For example, when doing 'df[col].method(value, inplace=True)', try using 'df.method({col: value}, inplace=True)' or df[col] = df[col].method(value) instead, to perform the operation inplace on the original object.\n",
      "\n",
      "\n",
      "  filtered_df[col].fillna(median_value, inplace=True)\n",
      "C:\\Users\\hasin\\AppData\\Local\\Temp\\ipykernel_13836\\9034711.py:5: FutureWarning: A value is trying to be set on a copy of a DataFrame or Series through chained assignment using an inplace method.\n",
      "The behavior will change in pandas 3.0. This inplace method will never work because the intermediate object on which we are setting values always behaves as a copy.\n",
      "\n",
      "For example, when doing 'df[col].method(value, inplace=True)', try using 'df.method({col: value}, inplace=True)' or df[col] = df[col].method(value) instead, to perform the operation inplace on the original object.\n",
      "\n",
      "\n",
      "  filtered_df[col].fillna(median_value, inplace=True)\n",
      "C:\\Users\\hasin\\AppData\\Local\\Temp\\ipykernel_13836\\9034711.py:5: FutureWarning: A value is trying to be set on a copy of a DataFrame or Series through chained assignment using an inplace method.\n",
      "The behavior will change in pandas 3.0. This inplace method will never work because the intermediate object on which we are setting values always behaves as a copy.\n",
      "\n",
      "For example, when doing 'df[col].method(value, inplace=True)', try using 'df.method({col: value}, inplace=True)' or df[col] = df[col].method(value) instead, to perform the operation inplace on the original object.\n",
      "\n",
      "\n",
      "  filtered_df[col].fillna(median_value, inplace=True)\n"
     ]
    }
   ],
   "source": [
    "# 3. Impute numerical fields using median\n",
    "num_cols = ['baths', 'beds', 'fullBaths', 'lotSize_value']\n",
    "for col in num_cols:\n",
    "    median_value = filtered_df[col].median()\n",
    "    filtered_df[col].fillna(median_value, inplace=True)"
   ]
  },
  {
   "cell_type": "code",
   "execution_count": 7,
   "id": "0c08f14e",
   "metadata": {},
   "outputs": [
    {
     "name": "stderr",
     "output_type": "stream",
     "text": [
      "C:\\Users\\hasin\\AppData\\Local\\Temp\\ipykernel_13836\\3210211116.py:4: FutureWarning: A value is trying to be set on a copy of a DataFrame or Series through chained assignment using an inplace method.\n",
      "The behavior will change in pandas 3.0. This inplace method will never work because the intermediate object on which we are setting values always behaves as a copy.\n",
      "\n",
      "For example, when doing 'df[col].method(value, inplace=True)', try using 'df.method({col: value}, inplace=True)' or df[col] = df[col].method(value) instead, to perform the operation inplace on the original object.\n",
      "\n",
      "\n",
      "  filtered_df[col].fillna('Not Provided', inplace=True)\n"
     ]
    }
   ],
   "source": [
    "# 5. Fill missing text fields with a placeholder\n",
    "text_cols = ['keyFacts_0_description', 'keyFacts_1_description', 'keyFacts_2_description', 'listingRemarks']\n",
    "for col in text_cols:\n",
    "    filtered_df[col].fillna('Not Provided', inplace=True)"
   ]
  },
  {
   "cell_type": "code",
   "execution_count": 8,
   "id": "b95fca15",
   "metadata": {},
   "outputs": [],
   "source": [
    "# 6. Verify missing values are handled\n",
    "df_missing_summary = filtered_df.isnull().sum()"
   ]
  },
  {
   "cell_type": "code",
   "execution_count": 9,
   "id": "ea231fc6",
   "metadata": {},
   "outputs": [],
   "source": [
    "# 1. Combine keyFacts description columns into one\n",
    "filtered_df['keyFacts_combined'] = (\n",
    "    filtered_df['keyFacts_0_description'].fillna('') + '; ' +\n",
    "    filtered_df['keyFacts_1_description'].fillna('') + '; ' +\n",
    "    filtered_df['keyFacts_2_description'].fillna('')\n",
    ").str.strip('; ')\n"
   ]
  },
  {
   "cell_type": "code",
   "execution_count": 10,
   "id": "219f0156",
   "metadata": {},
   "outputs": [],
   "source": [
    "# Optionally drop the originals\n",
    "filtered_df.drop(['keyFacts_0_description', 'keyFacts_1_description', 'keyFacts_2_description'], axis=1, inplace=True)"
   ]
  },
  {
   "cell_type": "code",
   "execution_count": 11,
   "id": "cbc2b715",
   "metadata": {},
   "outputs": [],
   "source": [
    "filtered_df['listingRemarks'] = filtered_df['listingRemarks'].str.strip()"
   ]
  },
  {
   "cell_type": "code",
   "execution_count": 12,
   "id": "14c477a0",
   "metadata": {},
   "outputs": [
    {
     "name": "stdout",
     "output_type": "stream",
     "text": [
      "Data cleaning complete. Cleaned file saved as 'filtered_df_cleaned.csv'.\n",
      "Remaining missing values per column:\n",
      "city                      0\n",
      "state                     0\n",
      "zip                       0\n",
      "baths                     0\n",
      "beds                      0\n",
      "fullBaths                 0\n",
      "lotSize_value             0\n",
      "price_value               0\n",
      "url                       0\n",
      "keyFacts_0_description    0\n",
      "keyFacts_1_description    0\n",
      "keyFacts_2_description    0\n",
      "isNewConstruction         0\n",
      "isHot                     0\n",
      "latitude                  0\n",
      "longitude                 0\n",
      "listingRemarks            0\n",
      "dtype: int64\n"
     ]
    }
   ],
   "source": [
    "# 7. Save the cleaned dataset\n",
    "filtered_df.to_csv('filtered_df_cleaned.csv', index=False)\n",
    "\n",
    "print(\"Data cleaning complete. Cleaned file saved as 'filtered_df_cleaned.csv'.\")\n",
    "print(\"Remaining missing values per column:\")\n",
    "print(df_missing_summary)"
   ]
  },
  {
   "cell_type": "code",
   "execution_count": 14,
   "id": "21f32049",
   "metadata": {},
   "outputs": [
    {
     "data": {
      "text/plain": [
       "0"
      ]
     },
     "execution_count": 14,
     "metadata": {},
     "output_type": "execute_result"
    }
   ],
   "source": [
    "filtered_df[\"url\"].isna().sum()"
   ]
  }
 ],
 "metadata": {
  "kernelspec": {
   "display_name": "Python 3",
   "language": "python",
   "name": "python3"
  },
  "language_info": {
   "codemirror_mode": {
    "name": "ipython",
    "version": 3
   },
   "file_extension": ".py",
   "mimetype": "text/x-python",
   "name": "python",
   "nbconvert_exporter": "python",
   "pygments_lexer": "ipython3",
   "version": "3.12.5"
  }
 },
 "nbformat": 4,
 "nbformat_minor": 5
}
